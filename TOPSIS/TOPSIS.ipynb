{
  "nbformat": 4,
  "nbformat_minor": 0,
  "metadata": {
    "colab": {
      "provenance": []
    },
    "kernelspec": {
      "name": "python3",
      "display_name": "Python 3"
    }
  },
  "cells": [
    {
      "cell_type": "markdown",
      "source": [
        "\n",
        "Universidade Federal do Pará - (UFPA)\n",
        "\n",
        "Discente: Romário da Costa Silva\n",
        "\n",
        "E-mail: eng.romariosilva@gmail.com\n",
        "\n",
        "Tarefa: Implementação do modelo TOPSIS\n",
        "\n",
        "Problema: Identificação de municípios, a partir de aspectos demográficos, com maior e menor propensão à ocorrência de dengue\n",
        "\n",
        "Link: https://colab.research.google.com/drive/1WAz8FyFtzoWLZhtLFAg5-FIueemYGuj2?usp=sharing"
      ],
      "metadata": {
        "id": "ZnlIAQ9o6btE"
      }
    },
    {
      "cell_type": "code",
      "metadata": {
        "id": "qXNuLV741qAH",
        "colab": {
          "base_uri": "https://localhost:8080/"
        },
        "outputId": "c2f52db3-9074-420b-eb14-97e1e31612bd"
      },
      "source": [
        "!pip install pyDecision"
      ],
      "execution_count": 1,
      "outputs": [
        {
          "output_type": "stream",
          "name": "stdout",
          "text": [
            "Collecting pyDecision\n",
            "  Downloading pyDecision-4.3.9-py3-none-any.whl (104 kB)\n",
            "\u001b[2K     \u001b[90m━━━━━━━━━━━━━━━━━━━━━━━━━━━━━━━━━━━━━━━━\u001b[0m \u001b[32m104.6/104.6 kB\u001b[0m \u001b[31m1.9 MB/s\u001b[0m eta \u001b[36m0:00:00\u001b[0m\n",
            "\u001b[?25hRequirement already satisfied: matplotlib in /usr/local/lib/python3.10/dist-packages (from pyDecision) (3.7.1)\n",
            "Requirement already satisfied: numpy in /usr/local/lib/python3.10/dist-packages (from pyDecision) (1.23.5)\n",
            "Requirement already satisfied: llmx in /usr/local/lib/python3.10/dist-packages (from pyDecision) (0.0.15a0)\n",
            "Collecting openai (from pyDecision)\n",
            "  Downloading openai-1.4.0-py3-none-any.whl (221 kB)\n",
            "\u001b[2K     \u001b[90m━━━━━━━━━━━━━━━━━━━━━━━━━━━━━━━━━━━━━━━━\u001b[0m \u001b[32m221.9/221.9 kB\u001b[0m \u001b[31m13.6 MB/s\u001b[0m eta \u001b[36m0:00:00\u001b[0m\n",
            "\u001b[?25hRequirement already satisfied: pandas in /usr/local/lib/python3.10/dist-packages (from pyDecision) (1.5.3)\n",
            "Requirement already satisfied: scikit-learn in /usr/local/lib/python3.10/dist-packages (from pyDecision) (1.2.2)\n",
            "Requirement already satisfied: scipy in /usr/local/lib/python3.10/dist-packages (from pyDecision) (1.11.4)\n",
            "Requirement already satisfied: pydantic in /usr/local/lib/python3.10/dist-packages (from llmx->pyDecision) (1.10.13)\n",
            "Collecting tiktoken (from llmx->pyDecision)\n",
            "  Downloading tiktoken-0.5.2-cp310-cp310-manylinux_2_17_x86_64.manylinux2014_x86_64.whl (2.0 MB)\n",
            "\u001b[2K     \u001b[90m━━━━━━━━━━━━━━━━━━━━━━━━━━━━━━━━━━━━━━━━\u001b[0m \u001b[32m2.0/2.0 MB\u001b[0m \u001b[31m50.2 MB/s\u001b[0m eta \u001b[36m0:00:00\u001b[0m\n",
            "\u001b[?25hRequirement already satisfied: diskcache in /usr/local/lib/python3.10/dist-packages (from llmx->pyDecision) (5.6.3)\n",
            "Collecting cohere (from llmx->pyDecision)\n",
            "  Downloading cohere-4.39-py3-none-any.whl (51 kB)\n",
            "\u001b[2K     \u001b[90m━━━━━━━━━━━━━━━━━━━━━━━━━━━━━━━━━━━━━━━━\u001b[0m \u001b[32m51.7/51.7 kB\u001b[0m \u001b[31m3.4 MB/s\u001b[0m eta \u001b[36m0:00:00\u001b[0m\n",
            "\u001b[?25hRequirement already satisfied: google.auth in /usr/local/lib/python3.10/dist-packages (from llmx->pyDecision) (2.17.3)\n",
            "Requirement already satisfied: typer in /usr/local/lib/python3.10/dist-packages (from llmx->pyDecision) (0.9.0)\n",
            "Requirement already satisfied: pyyaml in /usr/local/lib/python3.10/dist-packages (from llmx->pyDecision) (6.0.1)\n",
            "Requirement already satisfied: contourpy>=1.0.1 in /usr/local/lib/python3.10/dist-packages (from matplotlib->pyDecision) (1.2.0)\n",
            "Requirement already satisfied: cycler>=0.10 in /usr/local/lib/python3.10/dist-packages (from matplotlib->pyDecision) (0.12.1)\n",
            "Requirement already satisfied: fonttools>=4.22.0 in /usr/local/lib/python3.10/dist-packages (from matplotlib->pyDecision) (4.46.0)\n",
            "Requirement already satisfied: kiwisolver>=1.0.1 in /usr/local/lib/python3.10/dist-packages (from matplotlib->pyDecision) (1.4.5)\n",
            "Requirement already satisfied: packaging>=20.0 in /usr/local/lib/python3.10/dist-packages (from matplotlib->pyDecision) (23.2)\n",
            "Requirement already satisfied: pillow>=6.2.0 in /usr/local/lib/python3.10/dist-packages (from matplotlib->pyDecision) (9.4.0)\n",
            "Requirement already satisfied: pyparsing>=2.3.1 in /usr/local/lib/python3.10/dist-packages (from matplotlib->pyDecision) (3.1.1)\n",
            "Requirement already satisfied: python-dateutil>=2.7 in /usr/local/lib/python3.10/dist-packages (from matplotlib->pyDecision) (2.8.2)\n",
            "Requirement already satisfied: anyio<5,>=3.5.0 in /usr/local/lib/python3.10/dist-packages (from openai->pyDecision) (3.7.1)\n",
            "Requirement already satisfied: distro<2,>=1.7.0 in /usr/lib/python3/dist-packages (from openai->pyDecision) (1.7.0)\n",
            "Collecting httpx<1,>=0.23.0 (from openai->pyDecision)\n",
            "  Downloading httpx-0.25.2-py3-none-any.whl (74 kB)\n",
            "\u001b[2K     \u001b[90m━━━━━━━━━━━━━━━━━━━━━━━━━━━━━━━━━━━━━━━━\u001b[0m \u001b[32m75.0/75.0 kB\u001b[0m \u001b[31m5.6 MB/s\u001b[0m eta \u001b[36m0:00:00\u001b[0m\n",
            "\u001b[?25hRequirement already satisfied: sniffio in /usr/local/lib/python3.10/dist-packages (from openai->pyDecision) (1.3.0)\n",
            "Requirement already satisfied: tqdm>4 in /usr/local/lib/python3.10/dist-packages (from openai->pyDecision) (4.66.1)\n",
            "Requirement already satisfied: typing-extensions<5,>=4.5 in /usr/local/lib/python3.10/dist-packages (from openai->pyDecision) (4.5.0)\n",
            "Requirement already satisfied: pytz>=2020.1 in /usr/local/lib/python3.10/dist-packages (from pandas->pyDecision) (2023.3.post1)\n",
            "Requirement already satisfied: joblib>=1.1.1 in /usr/local/lib/python3.10/dist-packages (from scikit-learn->pyDecision) (1.3.2)\n",
            "Requirement already satisfied: threadpoolctl>=2.0.0 in /usr/local/lib/python3.10/dist-packages (from scikit-learn->pyDecision) (3.2.0)\n",
            "Requirement already satisfied: idna>=2.8 in /usr/local/lib/python3.10/dist-packages (from anyio<5,>=3.5.0->openai->pyDecision) (3.6)\n",
            "Requirement already satisfied: exceptiongroup in /usr/local/lib/python3.10/dist-packages (from anyio<5,>=3.5.0->openai->pyDecision) (1.2.0)\n",
            "Requirement already satisfied: certifi in /usr/local/lib/python3.10/dist-packages (from httpx<1,>=0.23.0->openai->pyDecision) (2023.11.17)\n",
            "Collecting httpcore==1.* (from httpx<1,>=0.23.0->openai->pyDecision)\n",
            "  Downloading httpcore-1.0.2-py3-none-any.whl (76 kB)\n",
            "\u001b[2K     \u001b[90m━━━━━━━━━━━━━━━━━━━━━━━━━━━━━━━━━━━━━━━━\u001b[0m \u001b[32m76.9/76.9 kB\u001b[0m \u001b[31m6.3 MB/s\u001b[0m eta \u001b[36m0:00:00\u001b[0m\n",
            "\u001b[?25hCollecting h11<0.15,>=0.13 (from httpcore==1.*->httpx<1,>=0.23.0->openai->pyDecision)\n",
            "  Downloading h11-0.14.0-py3-none-any.whl (58 kB)\n",
            "\u001b[2K     \u001b[90m━━━━━━━━━━━━━━━━━━━━━━━━━━━━━━━━━━━━━━━━\u001b[0m \u001b[32m58.3/58.3 kB\u001b[0m \u001b[31m4.5 MB/s\u001b[0m eta \u001b[36m0:00:00\u001b[0m\n",
            "\u001b[?25hRequirement already satisfied: six>=1.5 in /usr/local/lib/python3.10/dist-packages (from python-dateutil>=2.7->matplotlib->pyDecision) (1.16.0)\n",
            "Requirement already satisfied: aiohttp<4.0,>=3.0 in /usr/local/lib/python3.10/dist-packages (from cohere->llmx->pyDecision) (3.9.1)\n",
            "Collecting backoff<3.0,>=2.0 (from cohere->llmx->pyDecision)\n",
            "  Downloading backoff-2.2.1-py3-none-any.whl (15 kB)\n",
            "Collecting fastavro<2.0,>=1.8 (from cohere->llmx->pyDecision)\n",
            "  Downloading fastavro-1.9.1-cp310-cp310-manylinux_2_17_x86_64.manylinux2014_x86_64.whl (3.1 MB)\n",
            "\u001b[2K     \u001b[90m━━━━━━━━━━━━━━━━━━━━━━━━━━━━━━━━━━━━━━━━\u001b[0m \u001b[32m3.1/3.1 MB\u001b[0m \u001b[31m52.1 MB/s\u001b[0m eta \u001b[36m0:00:00\u001b[0m\n",
            "\u001b[?25hCollecting importlib_metadata<7.0,>=6.0 (from cohere->llmx->pyDecision)\n",
            "  Downloading importlib_metadata-6.11.0-py3-none-any.whl (23 kB)\n",
            "Requirement already satisfied: requests<3.0.0,>=2.25.0 in /usr/local/lib/python3.10/dist-packages (from cohere->llmx->pyDecision) (2.31.0)\n",
            "Requirement already satisfied: urllib3<3,>=1.26 in /usr/local/lib/python3.10/dist-packages (from cohere->llmx->pyDecision) (2.0.7)\n",
            "Requirement already satisfied: cachetools<6.0,>=2.0.0 in /usr/local/lib/python3.10/dist-packages (from google.auth->llmx->pyDecision) (5.3.2)\n",
            "Requirement already satisfied: pyasn1-modules>=0.2.1 in /usr/local/lib/python3.10/dist-packages (from google.auth->llmx->pyDecision) (0.3.0)\n",
            "Requirement already satisfied: rsa<5,>=3.1.4 in /usr/local/lib/python3.10/dist-packages (from google.auth->llmx->pyDecision) (4.9)\n",
            "Requirement already satisfied: regex>=2022.1.18 in /usr/local/lib/python3.10/dist-packages (from tiktoken->llmx->pyDecision) (2023.6.3)\n",
            "Requirement already satisfied: click<9.0.0,>=7.1.1 in /usr/local/lib/python3.10/dist-packages (from typer->llmx->pyDecision) (8.1.7)\n",
            "Requirement already satisfied: attrs>=17.3.0 in /usr/local/lib/python3.10/dist-packages (from aiohttp<4.0,>=3.0->cohere->llmx->pyDecision) (23.1.0)\n",
            "Requirement already satisfied: multidict<7.0,>=4.5 in /usr/local/lib/python3.10/dist-packages (from aiohttp<4.0,>=3.0->cohere->llmx->pyDecision) (6.0.4)\n",
            "Requirement already satisfied: yarl<2.0,>=1.0 in /usr/local/lib/python3.10/dist-packages (from aiohttp<4.0,>=3.0->cohere->llmx->pyDecision) (1.9.4)\n",
            "Requirement already satisfied: frozenlist>=1.1.1 in /usr/local/lib/python3.10/dist-packages (from aiohttp<4.0,>=3.0->cohere->llmx->pyDecision) (1.4.0)\n",
            "Requirement already satisfied: aiosignal>=1.1.2 in /usr/local/lib/python3.10/dist-packages (from aiohttp<4.0,>=3.0->cohere->llmx->pyDecision) (1.3.1)\n",
            "Requirement already satisfied: async-timeout<5.0,>=4.0 in /usr/local/lib/python3.10/dist-packages (from aiohttp<4.0,>=3.0->cohere->llmx->pyDecision) (4.0.3)\n",
            "Requirement already satisfied: zipp>=0.5 in /usr/local/lib/python3.10/dist-packages (from importlib_metadata<7.0,>=6.0->cohere->llmx->pyDecision) (3.17.0)\n",
            "Requirement already satisfied: pyasn1<0.6.0,>=0.4.6 in /usr/local/lib/python3.10/dist-packages (from pyasn1-modules>=0.2.1->google.auth->llmx->pyDecision) (0.5.1)\n",
            "Requirement already satisfied: charset-normalizer<4,>=2 in /usr/local/lib/python3.10/dist-packages (from requests<3.0.0,>=2.25.0->cohere->llmx->pyDecision) (3.3.2)\n",
            "Installing collected packages: importlib_metadata, h11, fastavro, backoff, tiktoken, httpcore, httpx, cohere, openai, pyDecision\n",
            "  Attempting uninstall: importlib_metadata\n",
            "    Found existing installation: importlib-metadata 7.0.0\n",
            "    Uninstalling importlib-metadata-7.0.0:\n",
            "      Successfully uninstalled importlib-metadata-7.0.0\n",
            "Successfully installed backoff-2.2.1 cohere-4.39 fastavro-1.9.1 h11-0.14.0 httpcore-1.0.2 httpx-0.25.2 importlib_metadata-6.11.0 openai-1.4.0 pyDecision-4.3.9 tiktoken-0.5.2\n"
          ]
        }
      ]
    },
    {
      "cell_type": "code",
      "metadata": {
        "id": "zD36b1VW5VYL"
      },
      "source": [
        "# Required Libraries\n",
        "import numpy as np\n",
        "\n",
        "from pyDecision.algorithm import topsis_method"
      ],
      "execution_count": 2,
      "outputs": []
    },
    {
      "cell_type": "code",
      "metadata": {
        "id": "1XBfgTZIDrhM",
        "colab": {
          "base_uri": "https://localhost:8080/"
        },
        "outputId": "aa21c904-8b4f-43ba-cee6-7f8f339671c2"
      },
      "source": [
        "# TOPSIS\n",
        "\n",
        "# Weights\n",
        "weights =  [0.3233, 0.0539, 0.0924, 0.1793, 0.3512]\n",
        "\n",
        "# Load Criterion Type: 'max' or 'min'\n",
        "criterion_type = ['max', 'min', 'min', 'min', 'min']\n",
        "\n",
        "# Dataset\n",
        "dataset = np.array([\n",
        "    #DP        PIB        IDHM   ES    ESA\n",
        "    [ 187.21,  21122.55,  673,  53.00, 36.1], #Castanhal\n",
        "    [ 101.75,  11242.38,  659,  18.00, 10.7], #Santa Isabel do Pará\n",
        "    [1230.23,   20562.1,  746, 168.00, 67.9], #Belém\n",
        "    [1070.74,  15576.91,  676,  21.00, 18.8], #Marituba\n",
        "    [2512.20,  15201.46,  718,  64.00, 55.1], #Ananindeua\n",
        "    [ 338.44,  26267.84,  665,  17.00, 17.4], #Benedives\n",
        "    [  75.82,  10196.64,  627,   9.00, 10.6], #Santa Bárbara do Pará\n",
        "    [  96.65,  58550.40,  662,  32.00, 27.8], #Barcarena\n",
        "    ])\n",
        "\n",
        "for i in range(len(dataset)):\n",
        "  for j in range(len(dataset[0])):\n",
        "    dataset[i,j] = round(dataset[i,j],3)\n",
        "\n",
        "normalized_dataset = dataset / np.sqrt(np.sum(dataset**2))\n",
        "normalized_dataset"
      ],
      "execution_count": 3,
      "outputs": [
        {
          "output_type": "execute_result",
          "data": {
            "text/plain": [
              "array([[2.47876966e-03, 2.79674890e-01, 8.91091278e-03, 7.01750932e-04,\n",
              "        4.77985069e-04],\n",
              "       [1.34722938e-03, 1.48855673e-01, 8.72554461e-03, 2.38330505e-04,\n",
              "        1.41674245e-04],\n",
              "       [1.62889632e-02, 2.72254205e-01, 9.87747539e-03, 2.22441805e-03,\n",
              "        8.99035628e-04],\n",
              "       [1.41772225e-02, 2.06247380e-01, 8.95063453e-03, 2.78052256e-04,\n",
              "        2.48922972e-04],\n",
              "       [3.32629942e-02, 2.01276202e-01, 9.50673905e-03, 8.47397352e-04,\n",
              "        7.29556158e-04],\n",
              "       [4.48114312e-03, 3.47801532e-01, 8.80498811e-03, 2.25089922e-04,\n",
              "        2.30386155e-04],\n",
              "       [1.00390105e-03, 1.35009465e-01, 8.30184594e-03, 1.19165253e-04,\n",
              "        1.40350186e-04],\n",
              "       [1.27970241e-03, 7.75241468e-01, 8.76526636e-03, 4.23698676e-04,\n",
              "        3.68088225e-04]])"
            ]
          },
          "metadata": {},
          "execution_count": 3
        }
      ]
    },
    {
      "cell_type": "code",
      "metadata": {
        "colab": {
          "base_uri": "https://localhost:8080/",
          "height": 563
        },
        "id": "cyCyvCXTDt9Z",
        "outputId": "05504af9-b46c-4ead-d736-f2082b07be30"
      },
      "source": [
        "# Call TOPSIS\n",
        "relative_closeness = topsis_method(dataset, weights, criterion_type, graph = True, verbose = True)"
      ],
      "execution_count": 4,
      "outputs": [
        {
          "output_type": "stream",
          "name": "stdout",
          "text": [
            "a1: 0.37\n",
            "a2: 0.48\n",
            "a3: 0.31\n",
            "a4: 0.61\n",
            "a5: 0.64\n",
            "a6: 0.49\n",
            "a7: 0.49\n",
            "a8: 0.41\n"
          ]
        },
        {
          "output_type": "display_data",
          "data": {
            "text/plain": [
              "<Figure size 640x480 with 1 Axes>"
            ],
            "image/png": "[encoded data removed]"
          },
          "metadata": {}
        }
      ]
    },
    {
      "cell_type": "code",
      "source": [
        "relative_closeness"
      ],
      "metadata": {
        "colab": {
          "base_uri": "https://localhost:8080/"
        },
        "id": "YLdD6oo99cX6",
        "outputId": "33ba1d5b-0074-4b36-c08c-0798253eb583"
      },
      "execution_count": 5,
      "outputs": [
        {
          "output_type": "execute_result",
          "data": {
            "text/plain": [
              "array([0.36768553, 0.48428487, 0.31034048, 0.60715789, 0.63842285,\n",
              "       0.49032747, 0.48714816, 0.41002956])"
            ]
          },
          "metadata": {},
          "execution_count": 5
        }
      ]
    }
  ]
}