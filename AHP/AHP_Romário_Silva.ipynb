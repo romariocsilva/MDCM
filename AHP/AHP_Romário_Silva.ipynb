{
  "nbformat": 4,
  "nbformat_minor": 0,
  "metadata": {
    "colab": {
      "provenance": []
    },
    "kernelspec": {
      "name": "python3",
      "display_name": "Python 3"
    }
  },
  "cells": [
    {
      "cell_type": "markdown",
      "source": [
        "Universidade Federal do Pará - (UFPA)\n",
        "\n",
        "Discente: Romário da Costa Silva\n",
        "\n",
        "E-mail: eng.romariosilva@gmail.com\n",
        "\n",
        "Tarefa: Implementação do modelo AHP (Analytic Hierarchy Process)\n",
        "\n",
        "Problema: Identificação de municípios, a partir de aspectos demográficos, com maior e menor propensão à ocorrência de dengue"
      ],
      "metadata": {
        "id": "z5VjWW3QbCU0"
      }
    },
    {
      "cell_type": "markdown",
      "source": [
        "1. Importação das biblotecas necessárias: pyDecision (GitHub Repository: <https://github.com/Valdecy>) e numpy"
      ],
      "metadata": {
        "id": "baouwFsGbWId"
      }
    },
    {
      "cell_type": "code",
      "source": [
        "!pip install pyDecision"
      ],
      "metadata": {
        "id": "A8tgi4Z7MTho",
        "colab": {
          "base_uri": "https://localhost:8080/"
        },
        "outputId": "f839dbba-e3fc-4030-f8dc-0ef40475775b"
      },
      "execution_count": null,
      "outputs": [
        {
          "output_type": "stream",
          "name": "stdout",
          "text": [
            "Collecting pyDecision\n",
            "  Downloading pyDecision-4.3.8-py3-none-any.whl (104 kB)\n",
            "\u001b[?25l     \u001b[90m━━━━━━━━━━━━━━━━━━━━━━━━━━━━━━━━━━━━━━━━\u001b[0m \u001b[32m0.0/104.6 kB\u001b[0m \u001b[31m?\u001b[0m eta \u001b[36m-:--:--\u001b[0m\r\u001b[2K     \u001b[91m━━━━━━━━━━━━━━━━━━━━━━━━━━━━━━━━━━━━━━━\u001b[0m\u001b[90m╺\u001b[0m \u001b[32m102.4/104.6 kB\u001b[0m \u001b[31m3.9 MB/s\u001b[0m eta \u001b[36m0:00:01\u001b[0m\r\u001b[2K     \u001b[90m━━━━━━━━━━━━━━━━━━━━━━━━━━━━━━━━━━━━━━━━\u001b[0m \u001b[32m104.6/104.6 kB\u001b[0m \u001b[31m2.8 MB/s\u001b[0m eta \u001b[36m0:00:00\u001b[0m\n",
            "\u001b[?25hRequirement already satisfied: matplotlib in /usr/local/lib/python3.10/dist-packages (from pyDecision) (3.7.1)\n",
            "Requirement already satisfied: numpy in /usr/local/lib/python3.10/dist-packages (from pyDecision) (1.23.5)\n",
            "Requirement already satisfied: llmx in /usr/local/lib/python3.10/dist-packages (from pyDecision) (0.0.15a0)\n",
            "Collecting openai (from pyDecision)\n",
            "  Downloading openai-1.3.5-py3-none-any.whl (220 kB)\n",
            "\u001b[2K     \u001b[90m━━━━━━━━━━━━━━━━━━━━━━━━━━━━━━━━━━━━━━━━\u001b[0m \u001b[32m220.8/220.8 kB\u001b[0m \u001b[31m7.9 MB/s\u001b[0m eta \u001b[36m0:00:00\u001b[0m\n",
            "\u001b[?25hRequirement already satisfied: pandas in /usr/local/lib/python3.10/dist-packages (from pyDecision) (1.5.3)\n",
            "Requirement already satisfied: scikit-learn in /usr/local/lib/python3.10/dist-packages (from pyDecision) (1.2.2)\n",
            "Requirement already satisfied: scipy in /usr/local/lib/python3.10/dist-packages (from pyDecision) (1.11.3)\n",
            "Requirement already satisfied: pydantic in /usr/local/lib/python3.10/dist-packages (from llmx->pyDecision) (1.10.13)\n",
            "Collecting tiktoken (from llmx->pyDecision)\n",
            "  Downloading tiktoken-0.5.1-cp310-cp310-manylinux_2_17_x86_64.manylinux2014_x86_64.whl (2.0 MB)\n",
            "\u001b[2K     \u001b[90m━━━━━━━━━━━━━━━━━━━━━━━━━━━━━━━━━━━━━━━━\u001b[0m \u001b[32m2.0/2.0 MB\u001b[0m \u001b[31m18.8 MB/s\u001b[0m eta \u001b[36m0:00:00\u001b[0m\n",
            "\u001b[?25hRequirement already satisfied: diskcache in /usr/local/lib/python3.10/dist-packages (from llmx->pyDecision) (5.6.3)\n",
            "Collecting cohere (from llmx->pyDecision)\n",
            "  Downloading cohere-4.36-py3-none-any.whl (48 kB)\n",
            "\u001b[2K     \u001b[90m━━━━━━━━━━━━━━━━━━━━━━━━━━━━━━━━━━━━━━━━\u001b[0m \u001b[32m48.9/48.9 kB\u001b[0m \u001b[31m5.3 MB/s\u001b[0m eta \u001b[36m0:00:00\u001b[0m\n",
            "\u001b[?25hRequirement already satisfied: google.auth in /usr/local/lib/python3.10/dist-packages (from llmx->pyDecision) (2.17.3)\n",
            "Requirement already satisfied: typer in /usr/local/lib/python3.10/dist-packages (from llmx->pyDecision) (0.9.0)\n",
            "Requirement already satisfied: pyyaml in /usr/local/lib/python3.10/dist-packages (from llmx->pyDecision) (6.0.1)\n",
            "Requirement already satisfied: contourpy>=1.0.1 in /usr/local/lib/python3.10/dist-packages (from matplotlib->pyDecision) (1.2.0)\n",
            "Requirement already satisfied: cycler>=0.10 in /usr/local/lib/python3.10/dist-packages (from matplotlib->pyDecision) (0.12.1)\n",
            "Requirement already satisfied: fonttools>=4.22.0 in /usr/local/lib/python3.10/dist-packages (from matplotlib->pyDecision) (4.44.3)\n",
            "Requirement already satisfied: kiwisolver>=1.0.1 in /usr/local/lib/python3.10/dist-packages (from matplotlib->pyDecision) (1.4.5)\n",
            "Requirement already satisfied: packaging>=20.0 in /usr/local/lib/python3.10/dist-packages (from matplotlib->pyDecision) (23.2)\n",
            "Requirement already satisfied: pillow>=6.2.0 in /usr/local/lib/python3.10/dist-packages (from matplotlib->pyDecision) (9.4.0)\n",
            "Requirement already satisfied: pyparsing>=2.3.1 in /usr/local/lib/python3.10/dist-packages (from matplotlib->pyDecision) (3.1.1)\n",
            "Requirement already satisfied: python-dateutil>=2.7 in /usr/local/lib/python3.10/dist-packages (from matplotlib->pyDecision) (2.8.2)\n",
            "Requirement already satisfied: anyio<4,>=3.5.0 in /usr/local/lib/python3.10/dist-packages (from openai->pyDecision) (3.7.1)\n",
            "Requirement already satisfied: distro<2,>=1.7.0 in /usr/lib/python3/dist-packages (from openai->pyDecision) (1.7.0)\n",
            "Collecting httpx<1,>=0.23.0 (from openai->pyDecision)\n",
            "  Downloading httpx-0.25.1-py3-none-any.whl (75 kB)\n",
            "\u001b[2K     \u001b[90m━━━━━━━━━━━━━━━━━━━━━━━━━━━━━━━━━━━━━━━━\u001b[0m \u001b[32m75.0/75.0 kB\u001b[0m \u001b[31m9.5 MB/s\u001b[0m eta \u001b[36m0:00:00\u001b[0m\n",
            "\u001b[?25hRequirement already satisfied: tqdm>4 in /usr/local/lib/python3.10/dist-packages (from openai->pyDecision) (4.66.1)\n",
            "Requirement already satisfied: typing-extensions<5,>=4.5 in /usr/local/lib/python3.10/dist-packages (from openai->pyDecision) (4.5.0)\n",
            "Requirement already satisfied: pytz>=2020.1 in /usr/local/lib/python3.10/dist-packages (from pandas->pyDecision) (2023.3.post1)\n",
            "Requirement already satisfied: joblib>=1.1.1 in /usr/local/lib/python3.10/dist-packages (from scikit-learn->pyDecision) (1.3.2)\n",
            "Requirement already satisfied: threadpoolctl>=2.0.0 in /usr/local/lib/python3.10/dist-packages (from scikit-learn->pyDecision) (3.2.0)\n",
            "Requirement already satisfied: idna>=2.8 in /usr/local/lib/python3.10/dist-packages (from anyio<4,>=3.5.0->openai->pyDecision) (3.4)\n",
            "Requirement already satisfied: sniffio>=1.1 in /usr/local/lib/python3.10/dist-packages (from anyio<4,>=3.5.0->openai->pyDecision) (1.3.0)\n",
            "Requirement already satisfied: exceptiongroup in /usr/local/lib/python3.10/dist-packages (from anyio<4,>=3.5.0->openai->pyDecision) (1.1.3)\n",
            "Requirement already satisfied: certifi in /usr/local/lib/python3.10/dist-packages (from httpx<1,>=0.23.0->openai->pyDecision) (2023.7.22)\n",
            "Collecting httpcore (from httpx<1,>=0.23.0->openai->pyDecision)\n",
            "  Downloading httpcore-1.0.2-py3-none-any.whl (76 kB)\n",
            "\u001b[2K     \u001b[90m━━━━━━━━━━━━━━━━━━━━━━━━━━━━━━━━━━━━━━━━\u001b[0m \u001b[32m76.9/76.9 kB\u001b[0m \u001b[31m9.2 MB/s\u001b[0m eta \u001b[36m0:00:00\u001b[0m\n",
            "\u001b[?25hRequirement already satisfied: six>=1.5 in /usr/local/lib/python3.10/dist-packages (from python-dateutil>=2.7->matplotlib->pyDecision) (1.16.0)\n",
            "Requirement already satisfied: aiohttp<4.0,>=3.0 in /usr/local/lib/python3.10/dist-packages (from cohere->llmx->pyDecision) (3.8.6)\n",
            "Collecting backoff<3.0,>=2.0 (from cohere->llmx->pyDecision)\n",
            "  Downloading backoff-2.2.1-py3-none-any.whl (15 kB)\n",
            "Collecting fastavro==1.8.2 (from cohere->llmx->pyDecision)\n",
            "  Downloading fastavro-1.8.2-cp310-cp310-manylinux_2_17_x86_64.manylinux2014_x86_64.whl (2.7 MB)\n",
            "\u001b[2K     \u001b[90m━━━━━━━━━━━━━━━━━━━━━━━━━━━━━━━━━━━━━━━━\u001b[0m \u001b[32m2.7/2.7 MB\u001b[0m \u001b[31m35.0 MB/s\u001b[0m eta \u001b[36m0:00:00\u001b[0m\n",
            "\u001b[?25hRequirement already satisfied: importlib_metadata<7.0,>=6.0 in /usr/local/lib/python3.10/dist-packages (from cohere->llmx->pyDecision) (6.8.0)\n",
            "Requirement already satisfied: requests<3.0.0,>=2.25.0 in /usr/local/lib/python3.10/dist-packages (from cohere->llmx->pyDecision) (2.31.0)\n",
            "Requirement already satisfied: urllib3<3,>=1.26 in /usr/local/lib/python3.10/dist-packages (from cohere->llmx->pyDecision) (2.0.7)\n",
            "Requirement already satisfied: cachetools<6.0,>=2.0.0 in /usr/local/lib/python3.10/dist-packages (from google.auth->llmx->pyDecision) (5.3.2)\n",
            "Requirement already satisfied: pyasn1-modules>=0.2.1 in /usr/local/lib/python3.10/dist-packages (from google.auth->llmx->pyDecision) (0.3.0)\n",
            "Requirement already satisfied: rsa<5,>=3.1.4 in /usr/local/lib/python3.10/dist-packages (from google.auth->llmx->pyDecision) (4.9)\n",
            "Requirement already satisfied: regex>=2022.1.18 in /usr/local/lib/python3.10/dist-packages (from tiktoken->llmx->pyDecision) (2023.6.3)\n",
            "Requirement already satisfied: click<9.0.0,>=7.1.1 in /usr/local/lib/python3.10/dist-packages (from typer->llmx->pyDecision) (8.1.7)\n",
            "Requirement already satisfied: attrs>=17.3.0 in /usr/local/lib/python3.10/dist-packages (from aiohttp<4.0,>=3.0->cohere->llmx->pyDecision) (23.1.0)\n",
            "Requirement already satisfied: charset-normalizer<4.0,>=2.0 in /usr/local/lib/python3.10/dist-packages (from aiohttp<4.0,>=3.0->cohere->llmx->pyDecision) (3.3.2)\n",
            "Requirement already satisfied: multidict<7.0,>=4.5 in /usr/local/lib/python3.10/dist-packages (from aiohttp<4.0,>=3.0->cohere->llmx->pyDecision) (6.0.4)\n",
            "Requirement already satisfied: async-timeout<5.0,>=4.0.0a3 in /usr/local/lib/python3.10/dist-packages (from aiohttp<4.0,>=3.0->cohere->llmx->pyDecision) (4.0.3)\n",
            "Requirement already satisfied: yarl<2.0,>=1.0 in /usr/local/lib/python3.10/dist-packages (from aiohttp<4.0,>=3.0->cohere->llmx->pyDecision) (1.9.2)\n",
            "Requirement already satisfied: frozenlist>=1.1.1 in /usr/local/lib/python3.10/dist-packages (from aiohttp<4.0,>=3.0->cohere->llmx->pyDecision) (1.4.0)\n",
            "Requirement already satisfied: aiosignal>=1.1.2 in /usr/local/lib/python3.10/dist-packages (from aiohttp<4.0,>=3.0->cohere->llmx->pyDecision) (1.3.1)\n",
            "Requirement already satisfied: zipp>=0.5 in /usr/local/lib/python3.10/dist-packages (from importlib_metadata<7.0,>=6.0->cohere->llmx->pyDecision) (3.17.0)\n",
            "Requirement already satisfied: pyasn1<0.6.0,>=0.4.6 in /usr/local/lib/python3.10/dist-packages (from pyasn1-modules>=0.2.1->google.auth->llmx->pyDecision) (0.5.0)\n",
            "Collecting h11<0.15,>=0.13 (from httpcore->httpx<1,>=0.23.0->openai->pyDecision)\n",
            "  Downloading h11-0.14.0-py3-none-any.whl (58 kB)\n",
            "\u001b[2K     \u001b[90m━━━━━━━━━━━━━━━━━━━━━━━━━━━━━━━━━━━━━━━━\u001b[0m \u001b[32m58.3/58.3 kB\u001b[0m \u001b[31m7.1 MB/s\u001b[0m eta \u001b[36m0:00:00\u001b[0m\n",
            "\u001b[?25hInstalling collected packages: h11, fastavro, backoff, tiktoken, httpcore, httpx, cohere, openai, pyDecision\n",
            "Successfully installed backoff-2.2.1 cohere-4.36 fastavro-1.8.2 h11-0.14.0 httpcore-1.0.2 httpx-0.25.1 openai-1.3.5 pyDecision-4.3.8 tiktoken-0.5.1\n"
          ]
        }
      ]
    },
    {
      "cell_type": "code",
      "metadata": {
        "id": "M88WY4vDyA-s"
      },
      "source": [
        "# Required Libraries\n",
        "import numpy as np\n",
        "from sklearn.preprocessing import normalize\n",
        "# AHP\n",
        "from pyDecision.algorithm import ahp_method"
      ],
      "execution_count": null,
      "outputs": []
    },
    {
      "cell_type": "markdown",
      "source": [
        "2. Criação da matriz de comparação"
      ],
      "metadata": {
        "id": "3iUI8puubzRd"
      }
    },
    {
      "cell_type": "code",
      "metadata": {
        "id": "2b_2CQmLy21I",
        "colab": {
          "base_uri": "https://localhost:8080/"
        },
        "outputId": "18c12b89-52ec-43d4-8303-facfe0c2b1bb"
      },
      "source": [
        "# AHP\n",
        "\n",
        "#g1 Densidade Populacional (DP)\n",
        "#g2 PIB per capita (PIB)\n",
        "#g3 Índice de Desenvolvimento Humano Municipal (IDHM)\n",
        "#g4 Esgotamento Sanitário Adequado (ESA)\n",
        "\n",
        "# Parameters\n",
        "weight_derivation = 'mean' # 'mean'; 'geometric' or 'max_eigen'\n",
        "\n",
        "# Dataset\n",
        "dataset = np.array([\n",
        "  #DP     PIB    IDHM   ESA\n",
        "  [1  ,     5,     3,     1],   #DP\n",
        "  [1/5,     1,   1/3,   1/5],   #PIB\n",
        "  [1/3,     3,     1,   1/5],   #IDHM\n",
        "  [1  ,     5,     5,     1],   #ESA\n",
        "])\n",
        "\n",
        "#DP 5 X PIB = Muito mais importante, hábito alimentar por humanos\n",
        "#DP 3 x IDHM = Moderadamente mais importante\n",
        "#DP 1 x ESA = Falta de saneamento gera potenciais criadouros\n",
        "\n",
        "#PIB x 3 IDHM = Desenvolvimento geral mais importante que receita\n",
        "#PIB x 5 ESA = Estrutura de saneamento mais importante que receita\n",
        "\n",
        "#IDHM x 5 ESA =\n",
        "\n",
        "#normalized_dataset = dataset / np.sqrt(np.sum(dataset**2))\n",
        "\n",
        "#for i in range(len(normalized_dataset)):\n",
        "#  for j in range(len(normalized_dataset[0])):\n",
        "#    normalized_dataset[i,j] = round(normalized_dataset[i,j],2)\n",
        "\n",
        "#normalized_dataset\n",
        "dataset"
      ],
      "execution_count": null,
      "outputs": [
        {
          "output_type": "execute_result",
          "data": {
            "text/plain": [
              "array([[1.        , 5.        , 3.        , 1.        ],\n",
              "       [0.2       , 1.        , 0.33333333, 0.2       ],\n",
              "       [0.33333333, 3.        , 1.        , 0.2       ],\n",
              "       [1.        , 5.        , 5.        , 1.        ]])"
            ]
          },
          "metadata": {},
          "execution_count": 3
        }
      ]
    },
    {
      "cell_type": "markdown",
      "source": [
        "3. Utilização do função AHP\n"
      ],
      "metadata": {
        "id": "w89JAgjrVRIH"
      }
    },
    {
      "cell_type": "code",
      "metadata": {
        "id": "21pV5bPsy47Z"
      },
      "source": [
        "# Call AHP Function\n",
        "weights, rc = ahp_method(dataset, wd = weight_derivation)"
      ],
      "execution_count": null,
      "outputs": []
    },
    {
      "cell_type": "markdown",
      "source": [
        "4. Cálculo dos Pesos (Vetor Eigen)"
      ],
      "metadata": {
        "id": "h4i7I5R0VaLT"
      }
    },
    {
      "cell_type": "code",
      "metadata": {
        "colab": {
          "base_uri": "https://localhost:8080/"
        },
        "id": "pvo2lVsaz6i6",
        "outputId": "2c7b8b1a-a657-4a3e-c25b-2c16ae485951"
      },
      "source": [
        "# Weigths\n",
        "for i in range(0, weights.shape[0]):\n",
        "  print('Peso '+str(i+1)+': ', round(weights[i], 4)*100,'%')\n",
        "\n",
        "\n",
        "for i in range(0, weights.shape[0]):\n",
        "  weights[i] = round(weights[i], 4)\n",
        "weights"
      ],
      "execution_count": null,
      "outputs": [
        {
          "output_type": "stream",
          "name": "stdout",
          "text": [
            "Peso 1:  37.25 %\n",
            "Peso 2:  6.74 %\n",
            "Peso 3:  13.41 %\n",
            "Peso 4:  42.61 %\n"
          ]
        },
        {
          "output_type": "execute_result",
          "data": {
            "text/plain": [
              "array([0.3725, 0.0674, 0.1341, 0.4261])"
            ]
          },
          "metadata": {},
          "execution_count": 5
        }
      ]
    },
    {
      "cell_type": "markdown",
      "source": [
        "5. Cálculo do Índice de consistência"
      ],
      "metadata": {
        "id": "p79xCQ7KVhSa"
      }
    },
    {
      "cell_type": "code",
      "metadata": {
        "colab": {
          "base_uri": "https://localhost:8080/"
        },
        "id": "j2RTwEWf0Igs",
        "outputId": "50d030b5-9807-41d1-cf0c-17124ca1f6c2"
      },
      "source": [
        "# Consistency Ratio\n",
        "print('RC: ' + str(round(rc, 4)))\n",
        "if (rc > 0.10):\n",
        "  print('A solução é inconsistente, as comparações par a par devem ser revisadas')\n",
        "else:\n",
        "  print('A solução é consistente')"
      ],
      "execution_count": null,
      "outputs": [
        {
          "output_type": "stream",
          "name": "stdout",
          "text": [
            "RC: 0.0435\n",
            "A solução é consistente\n"
          ]
        }
      ]
    },
    {
      "cell_type": "markdown",
      "source": [
        "6. Inserção da matriz com as alternativas e os valores"
      ],
      "metadata": {
        "id": "u_G1j3tZVqmn"
      }
    },
    {
      "cell_type": "code",
      "source": [
        "alternativas=np.array([\n",
        "    #DP        PIB        IDHM   ESA\n",
        "    [ 186.79,  21122.55,  673, 36.1], #Castanhal\n",
        "    [ 101.75,  11242.38,  659, 10.7], #Santa Isabel do Pará\n",
        "    [1230.23,   20562.1,  746, 67.9], #Belém\n",
        "    [1070.74,  15576.91,  676, 18.8], #Marituba\n",
        "    [2512.20,  15201.46,  718, 55.1], #Ananindeua\n",
        "    [ 338.44,  26267.84,  665, 17.4], #Benedives\n",
        "    [  75.82,  10196.64,  627, 10.6], #Santa Bárbara do Pará\n",
        "    [  96.65,  58550.40,  662, 27.8], #Barcarena\n",
        "    ])\n",
        "\n",
        "normalized_alternativas = alternativas / np.sqrt(np.sum(alternativas**2))\n",
        "\n",
        "for i in range(len(normalized_alternativas)):\n",
        "  for j in range(len(normalized_alternativas[0])):\n",
        "    normalized_alternativas[i,j] = round(normalized_alternativas[i,j],5)\n",
        "\n",
        "normalized_alternativas"
      ],
      "metadata": {
        "colab": {
          "base_uri": "https://localhost:8080/"
        },
        "id": "HeHqXPyFo37p",
        "outputId": "d173852f-672e-439d-8ac3-2fdae848f70c"
      },
      "execution_count": null,
      "outputs": [
        {
          "output_type": "execute_result",
          "data": {
            "text/plain": [
              "array([[2.4700e-03, 2.7968e-01, 8.9100e-03, 4.8000e-04],\n",
              "       [1.3500e-03, 1.4886e-01, 8.7300e-03, 1.4000e-04],\n",
              "       [1.6290e-02, 2.7226e-01, 9.8800e-03, 9.0000e-04],\n",
              "       [1.4180e-02, 2.0625e-01, 8.9500e-03, 2.5000e-04],\n",
              "       [3.3260e-02, 2.0128e-01, 9.5100e-03, 7.3000e-04],\n",
              "       [4.4800e-03, 3.4780e-01, 8.8100e-03, 2.3000e-04],\n",
              "       [1.0000e-03, 1.3501e-01, 8.3000e-03, 1.4000e-04],\n",
              "       [1.2800e-03, 7.7524e-01, 8.7700e-03, 3.7000e-04]])"
            ]
          },
          "metadata": {},
          "execution_count": 7
        }
      ]
    },
    {
      "cell_type": "code",
      "source": [
        "nomealternativa=(\"Castanhal\", \"Santa Isabel do Pará\", \"Belém\", \"Marituba\", \"Ananindeua\", \"Benevides\", \"Santa Bárbara do Pará\", \"Barcarena\")"
      ],
      "metadata": {
        "id": "MLTdv0Yo565f"
      },
      "execution_count": null,
      "outputs": []
    },
    {
      "cell_type": "markdown",
      "source": [
        "7. Multiplicação do vetor de pesos com as alternativas"
      ],
      "metadata": {
        "id": "fX6oyjgjV9QB"
      }
    },
    {
      "cell_type": "code",
      "source": [
        "total = []\n",
        "for i in range(len(normalized_alternativas)):\n",
        "  total.append([normalized_alternativas[i]*weights])\n",
        "total"
      ],
      "metadata": {
        "id": "UxtwijXYqSuo",
        "colab": {
          "base_uri": "https://localhost:8080/"
        },
        "outputId": "a08ba5a4-9516-442d-f889-960baad40899"
      },
      "execution_count": null,
      "outputs": [
        {
          "output_type": "execute_result",
          "data": {
            "text/plain": [
              "[[array([0.00092008, 0.01885043, 0.00119483, 0.00020453])],\n",
              " [array([5.0287500e-04, 1.0033164e-02, 1.1706930e-03, 5.9654000e-05])],\n",
              " [array([0.00606802, 0.01835032, 0.00132491, 0.00038349])],\n",
              " [array([0.00528205, 0.01390125, 0.00120019, 0.00010653])],\n",
              " [array([0.01238935, 0.01356627, 0.00127529, 0.00031105])],\n",
              " [array([1.668800e-03, 2.344172e-02, 1.181421e-03, 9.800300e-05])],\n",
              " [array([3.725000e-04, 9.099674e-03, 1.113030e-03, 5.965400e-05])],\n",
              " [array([0.0004768 , 0.05225118, 0.00117606, 0.00015766])]]"
            ]
          },
          "metadata": {},
          "execution_count": 9
        }
      ]
    },
    {
      "cell_type": "markdown",
      "source": [
        "8. Função soma para totalização"
      ],
      "metadata": {
        "id": "f5eIR0PUWC5-"
      }
    },
    {
      "cell_type": "code",
      "source": [
        "def somalista(numeros):\n",
        "   if len(numeros) == 1:\n",
        "        return numeros[0]\n",
        "   else:\n",
        "        return numeros[0] + somalista(numeros[1:])"
      ],
      "metadata": {
        "id": "446s6AO1UXui"
      },
      "execution_count": null,
      "outputs": []
    },
    {
      "cell_type": "markdown",
      "source": [
        "9. Valor final para cada alternativa"
      ],
      "metadata": {
        "id": "y_LKdIMiWKSC"
      }
    },
    {
      "cell_type": "code",
      "source": [
        "soma = []\n",
        "somatotal = []\n",
        "for i in range(len(total)):\n",
        "  soma.append(somalista(total[i]))\n",
        "  somatotal.append(round(sum(soma[i]),3))\n",
        "print(somatotal)"
      ],
      "metadata": {
        "colab": {
          "base_uri": "https://localhost:8080/"
        },
        "id": "I6gbc83kUZll",
        "outputId": "298b0a35-882c-404a-b5ea-645ceada01ab"
      },
      "execution_count": null,
      "outputs": [
        {
          "output_type": "stream",
          "name": "stdout",
          "text": [
            "[0.021, 0.012, 0.026, 0.02, 0.028, 0.026, 0.011, 0.054]\n"
          ]
        }
      ]
    },
    {
      "cell_type": "code",
      "source": [
        "def maior_valor(lista):\n",
        "    try:\n",
        "        if len(lista) == 0:\n",
        "            return None\n",
        "\n",
        "        maior = lista[0]\n",
        "\n",
        "        for valor in lista:\n",
        "            if valor > maior:\n",
        "                maior = valor\n",
        "\n",
        "        return maior\n",
        "    except TypeError:\n",
        "        return lista"
      ],
      "metadata": {
        "id": "0CrAzR8XlR0d"
      },
      "execution_count": null,
      "outputs": []
    },
    {
      "cell_type": "code",
      "source": [
        "def menor_valor(lista):\n",
        "    menor = 9999999\n",
        "    try:\n",
        "        if len(lista) == 0:\n",
        "            return None\n",
        "        menor = lista[0]\n",
        "\n",
        "        for valor in lista:\n",
        "            if valor < menor:\n",
        "                menor = valor\n",
        "        return menor\n",
        "    except TypeError:\n",
        "        return lista"
      ],
      "metadata": {
        "id": "HZJ6seKOlcMD"
      },
      "execution_count": null,
      "outputs": []
    },
    {
      "cell_type": "code",
      "source": [
        "maior = maior_valor(somatotal)\n",
        "posmaior = somatotal.index(maior)\n",
        "menor = menor_valor(somatotal)\n",
        "posmenor = somatotal.index(menor)"
      ],
      "metadata": {
        "id": "bnsAzSvQf98p"
      },
      "execution_count": null,
      "outputs": []
    },
    {
      "cell_type": "code",
      "source": [
        "print('O maior valor obtido foi:', maior, 'referente ao município:', nomealternativa[posmaior])\n",
        "print('O menor valor obtido foi:', menor, 'referente ao município:', nomealternativa[posmenor])"
      ],
      "metadata": {
        "colab": {
          "base_uri": "https://localhost:8080/"
        },
        "id": "02rttYfcWcVr",
        "outputId": "eb40d1e8-54bd-44a3-c521-bf4d7426147d"
      },
      "execution_count": null,
      "outputs": [
        {
          "output_type": "stream",
          "name": "stdout",
          "text": [
            "O maior valor obtido foi: 0.054 referente ao município: Barcarena\n",
            "O menor valor obtido foi: 0.011 referente ao município: Santa Bárbara do Pará\n"
          ]
        }
      ]
    }
  ]
}