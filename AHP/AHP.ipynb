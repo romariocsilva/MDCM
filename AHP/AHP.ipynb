{
  "nbformat": 4,
  "nbformat_minor": 0,
  "metadata": {
    "colab": {
      "provenance": []
    },
    "kernelspec": {
      "name": "python3",
      "display_name": "Python 3"
    }
  },
  "cells": [
    {
      "cell_type": "markdown",
      "source": [
        "Universidade Federal do Pará - (UFPA)\n",
        "\n",
        "Discente: Romário da Costa Silva\n",
        "\n",
        "E-mail: eng.romariosilva@gmail.com\n",
        "\n",
        "Tarefa: Implementação do modelo AHP (Analytic Hierarchy Process)"
      ],
      "metadata": {
        "id": "z5VjWW3QbCU0"
      }
    },
    {
      "cell_type": "markdown",
      "source": [
        "1. Importação das biblotecas necessárias: pyDecision (GitHub Repository: <https://github.com/Valdecy>) e numpy"
      ],
      "metadata": {
        "id": "baouwFsGbWId"
      }
    },
    {
      "cell_type": "code",
      "source": [
        "!pip install pyDecision"
      ],
      "metadata": {
        "id": "A8tgi4Z7MTho",
        "colab": {
          "base_uri": "https://localhost:8080/"
        },
        "outputId": "38eb6c1d-8e65-4724-87c4-d83c906e17e6"
      },
      "execution_count": 1,
      "outputs": [
        {
          "output_type": "stream",
          "name": "stdout",
          "text": [
            "Collecting pyDecision\n",
            "  Downloading pyDecision-4.5.5-py3-none-any.whl (119 kB)\n",
            "\u001b[?25l     \u001b[90m━━━━━━━━━━━━━━━━━━━━━━━━━━━━━━━━━━━━━━━━\u001b[0m \u001b[32m0.0/119.3 kB\u001b[0m \u001b[31m?\u001b[0m eta \u001b[36m-:--:--\u001b[0m\r\u001b[2K     \u001b[91m━━━━━━━━━━━━━━━━━━━━━━━━━━━━━━\u001b[0m\u001b[91m╸\u001b[0m\u001b[90m━━━━━━━━━\u001b[0m \u001b[32m92.2/119.3 kB\u001b[0m \u001b[31m2.6 MB/s\u001b[0m eta \u001b[36m0:00:01\u001b[0m\r\u001b[2K     \u001b[90m━━━━━━━━━━━━━━━━━━━━━━━━━━━━━━━━━━━━━━━━\u001b[0m \u001b[32m119.3/119.3 kB\u001b[0m \u001b[31m2.4 MB/s\u001b[0m eta \u001b[36m0:00:00\u001b[0m\n",
            "\u001b[?25hRequirement already satisfied: matplotlib in /usr/local/lib/python3.10/dist-packages (from pyDecision) (3.7.1)\n",
            "Requirement already satisfied: numpy in /usr/local/lib/python3.10/dist-packages (from pyDecision) (1.25.2)\n",
            "Collecting llmx (from pyDecision)\n",
            "  Downloading llmx-0.0.21a0-py3-none-any.whl (20 kB)\n",
            "Collecting openai (from pyDecision)\n",
            "  Downloading openai-1.30.1-py3-none-any.whl (320 kB)\n",
            "\u001b[2K     \u001b[90m━━━━━━━━━━━━━━━━━━━━━━━━━━━━━━━━━━━━━━━━\u001b[0m \u001b[32m320.6/320.6 kB\u001b[0m \u001b[31m13.8 MB/s\u001b[0m eta \u001b[36m0:00:00\u001b[0m\n",
            "\u001b[?25hRequirement already satisfied: pandas in /usr/local/lib/python3.10/dist-packages (from pyDecision) (2.0.3)\n",
            "Requirement already satisfied: scikit-learn in /usr/local/lib/python3.10/dist-packages (from pyDecision) (1.2.2)\n",
            "Requirement already satisfied: scipy in /usr/local/lib/python3.10/dist-packages (from pyDecision) (1.11.4)\n",
            "Requirement already satisfied: pydantic in /usr/local/lib/python3.10/dist-packages (from llmx->pyDecision) (2.7.1)\n",
            "Collecting tiktoken (from llmx->pyDecision)\n",
            "  Downloading tiktoken-0.7.0-cp310-cp310-manylinux_2_17_x86_64.manylinux2014_x86_64.whl (1.1 MB)\n",
            "\u001b[2K     \u001b[90m━━━━━━━━━━━━━━━━━━━━━━━━━━━━━━━━━━━━━━━━\u001b[0m \u001b[32m1.1/1.1 MB\u001b[0m \u001b[31m37.3 MB/s\u001b[0m eta \u001b[36m0:00:00\u001b[0m\n",
            "\u001b[?25hCollecting diskcache (from llmx->pyDecision)\n",
            "  Downloading diskcache-5.6.3-py3-none-any.whl (45 kB)\n",
            "\u001b[2K     \u001b[90m━━━━━━━━━━━━━━━━━━━━━━━━━━━━━━━━━━━━━━━━\u001b[0m \u001b[32m45.5/45.5 kB\u001b[0m \u001b[31m4.1 MB/s\u001b[0m eta \u001b[36m0:00:00\u001b[0m\n",
            "\u001b[?25hCollecting cohere (from llmx->pyDecision)\n",
            "  Downloading cohere-5.5.1-py3-none-any.whl (166 kB)\n",
            "\u001b[2K     \u001b[90m━━━━━━━━━━━━━━━━━━━━━━━━━━━━━━━━━━━━━━━━\u001b[0m \u001b[32m166.1/166.1 kB\u001b[0m \u001b[31m9.8 MB/s\u001b[0m eta \u001b[36m0:00:00\u001b[0m\n",
            "\u001b[?25hRequirement already satisfied: google.auth in /usr/local/lib/python3.10/dist-packages (from llmx->pyDecision) (2.27.0)\n",
            "Requirement already satisfied: typer in /usr/local/lib/python3.10/dist-packages (from llmx->pyDecision) (0.9.4)\n",
            "Requirement already satisfied: pyyaml in /usr/local/lib/python3.10/dist-packages (from llmx->pyDecision) (6.0.1)\n",
            "Requirement already satisfied: contourpy>=1.0.1 in /usr/local/lib/python3.10/dist-packages (from matplotlib->pyDecision) (1.2.1)\n",
            "Requirement already satisfied: cycler>=0.10 in /usr/local/lib/python3.10/dist-packages (from matplotlib->pyDecision) (0.12.1)\n",
            "Requirement already satisfied: fonttools>=4.22.0 in /usr/local/lib/python3.10/dist-packages (from matplotlib->pyDecision) (4.51.0)\n",
            "Requirement already satisfied: kiwisolver>=1.0.1 in /usr/local/lib/python3.10/dist-packages (from matplotlib->pyDecision) (1.4.5)\n",
            "Requirement already satisfied: packaging>=20.0 in /usr/local/lib/python3.10/dist-packages (from matplotlib->pyDecision) (24.0)\n",
            "Requirement already satisfied: pillow>=6.2.0 in /usr/local/lib/python3.10/dist-packages (from matplotlib->pyDecision) (9.4.0)\n",
            "Requirement already satisfied: pyparsing>=2.3.1 in /usr/local/lib/python3.10/dist-packages (from matplotlib->pyDecision) (3.1.2)\n",
            "Requirement already satisfied: python-dateutil>=2.7 in /usr/local/lib/python3.10/dist-packages (from matplotlib->pyDecision) (2.8.2)\n",
            "Requirement already satisfied: anyio<5,>=3.5.0 in /usr/local/lib/python3.10/dist-packages (from openai->pyDecision) (3.7.1)\n",
            "Requirement already satisfied: distro<2,>=1.7.0 in /usr/lib/python3/dist-packages (from openai->pyDecision) (1.7.0)\n",
            "Collecting httpx<1,>=0.23.0 (from openai->pyDecision)\n",
            "  Downloading httpx-0.27.0-py3-none-any.whl (75 kB)\n",
            "\u001b[2K     \u001b[90m━━━━━━━━━━━━━━━━━━━━━━━━━━━━━━━━━━━━━━━━\u001b[0m \u001b[32m75.6/75.6 kB\u001b[0m \u001b[31m4.4 MB/s\u001b[0m eta \u001b[36m0:00:00\u001b[0m\n",
            "\u001b[?25hRequirement already satisfied: sniffio in /usr/local/lib/python3.10/dist-packages (from openai->pyDecision) (1.3.1)\n",
            "Requirement already satisfied: tqdm>4 in /usr/local/lib/python3.10/dist-packages (from openai->pyDecision) (4.66.4)\n",
            "Requirement already satisfied: typing-extensions<5,>=4.7 in /usr/local/lib/python3.10/dist-packages (from openai->pyDecision) (4.11.0)\n",
            "Requirement already satisfied: pytz>=2020.1 in /usr/local/lib/python3.10/dist-packages (from pandas->pyDecision) (2023.4)\n",
            "Requirement already satisfied: tzdata>=2022.1 in /usr/local/lib/python3.10/dist-packages (from pandas->pyDecision) (2024.1)\n",
            "Requirement already satisfied: joblib>=1.1.1 in /usr/local/lib/python3.10/dist-packages (from scikit-learn->pyDecision) (1.4.2)\n",
            "Requirement already satisfied: threadpoolctl>=2.0.0 in /usr/local/lib/python3.10/dist-packages (from scikit-learn->pyDecision) (3.5.0)\n",
            "Requirement already satisfied: idna>=2.8 in /usr/local/lib/python3.10/dist-packages (from anyio<5,>=3.5.0->openai->pyDecision) (3.7)\n",
            "Requirement already satisfied: exceptiongroup in /usr/local/lib/python3.10/dist-packages (from anyio<5,>=3.5.0->openai->pyDecision) (1.2.1)\n",
            "Requirement already satisfied: certifi in /usr/local/lib/python3.10/dist-packages (from httpx<1,>=0.23.0->openai->pyDecision) (2024.2.2)\n",
            "Collecting httpcore==1.* (from httpx<1,>=0.23.0->openai->pyDecision)\n",
            "  Downloading httpcore-1.0.5-py3-none-any.whl (77 kB)\n",
            "\u001b[2K     \u001b[90m━━━━━━━━━━━━━━━━━━━━━━━━━━━━━━━━━━━━━━━━\u001b[0m \u001b[32m77.9/77.9 kB\u001b[0m \u001b[31m4.2 MB/s\u001b[0m eta \u001b[36m0:00:00\u001b[0m\n",
            "\u001b[?25hCollecting h11<0.15,>=0.13 (from httpcore==1.*->httpx<1,>=0.23.0->openai->pyDecision)\n",
            "  Downloading h11-0.14.0-py3-none-any.whl (58 kB)\n",
            "\u001b[2K     \u001b[90m━━━━━━━━━━━━━━━━━━━━━━━━━━━━━━━━━━━━━━━━\u001b[0m \u001b[32m58.3/58.3 kB\u001b[0m \u001b[31m3.6 MB/s\u001b[0m eta \u001b[36m0:00:00\u001b[0m\n",
            "\u001b[?25hRequirement already satisfied: annotated-types>=0.4.0 in /usr/local/lib/python3.10/dist-packages (from pydantic->llmx->pyDecision) (0.6.0)\n",
            "Requirement already satisfied: pydantic-core==2.18.2 in /usr/local/lib/python3.10/dist-packages (from pydantic->llmx->pyDecision) (2.18.2)\n",
            "Requirement already satisfied: six>=1.5 in /usr/local/lib/python3.10/dist-packages (from python-dateutil>=2.7->matplotlib->pyDecision) (1.16.0)\n",
            "Collecting boto3<2.0.0,>=1.34.0 (from cohere->llmx->pyDecision)\n",
            "  Downloading boto3-1.34.111-py3-none-any.whl (139 kB)\n",
            "\u001b[2K     \u001b[90m━━━━━━━━━━━━━━━━━━━━━━━━━━━━━━━━━━━━━━━━\u001b[0m \u001b[32m139.3/139.3 kB\u001b[0m \u001b[31m944.0 kB/s\u001b[0m eta \u001b[36m0:00:00\u001b[0m\n",
            "\u001b[?25hCollecting fastavro<2.0.0,>=1.9.4 (from cohere->llmx->pyDecision)\n",
            "  Downloading fastavro-1.9.4-cp310-cp310-manylinux_2_17_x86_64.manylinux2014_x86_64.whl (3.1 MB)\n",
            "\u001b[2K     \u001b[90m━━━━━━━━━━━━━━━━━━━━━━━━━━━━━━━━━━━━━━━━\u001b[0m \u001b[32m3.1/3.1 MB\u001b[0m \u001b[31m18.3 MB/s\u001b[0m eta \u001b[36m0:00:00\u001b[0m\n",
            "\u001b[?25hCollecting httpx-sse<0.5.0,>=0.4.0 (from cohere->llmx->pyDecision)\n",
            "  Downloading httpx_sse-0.4.0-py3-none-any.whl (7.8 kB)\n",
            "Requirement already satisfied: requests<3.0.0,>=2.0.0 in /usr/local/lib/python3.10/dist-packages (from cohere->llmx->pyDecision) (2.31.0)\n",
            "Requirement already satisfied: tokenizers<0.20,>=0.19 in /usr/local/lib/python3.10/dist-packages (from cohere->llmx->pyDecision) (0.19.1)\n",
            "Collecting types-requests<3.0.0,>=2.0.0 (from cohere->llmx->pyDecision)\n",
            "  Downloading types_requests-2.32.0.20240521-py3-none-any.whl (15 kB)\n",
            "Requirement already satisfied: cachetools<6.0,>=2.0.0 in /usr/local/lib/python3.10/dist-packages (from google.auth->llmx->pyDecision) (5.3.3)\n",
            "Requirement already satisfied: pyasn1-modules>=0.2.1 in /usr/local/lib/python3.10/dist-packages (from google.auth->llmx->pyDecision) (0.4.0)\n",
            "Requirement already satisfied: rsa<5,>=3.1.4 in /usr/local/lib/python3.10/dist-packages (from google.auth->llmx->pyDecision) (4.9)\n",
            "Requirement already satisfied: regex>=2022.1.18 in /usr/local/lib/python3.10/dist-packages (from tiktoken->llmx->pyDecision) (2023.12.25)\n",
            "Requirement already satisfied: click<9.0.0,>=7.1.1 in /usr/local/lib/python3.10/dist-packages (from typer->llmx->pyDecision) (8.1.7)\n",
            "Collecting botocore<1.35.0,>=1.34.111 (from boto3<2.0.0,>=1.34.0->cohere->llmx->pyDecision)\n",
            "  Downloading botocore-1.34.111-py3-none-any.whl (12.3 MB)\n",
            "\u001b[2K     \u001b[90m━━━━━━━━━━━━━━━━━━━━━━━━━━━━━━━━━━━━━━━━\u001b[0m \u001b[32m12.3/12.3 MB\u001b[0m \u001b[31m51.4 MB/s\u001b[0m eta \u001b[36m0:00:00\u001b[0m\n",
            "\u001b[?25hCollecting jmespath<2.0.0,>=0.7.1 (from boto3<2.0.0,>=1.34.0->cohere->llmx->pyDecision)\n",
            "  Downloading jmespath-1.0.1-py3-none-any.whl (20 kB)\n",
            "Collecting s3transfer<0.11.0,>=0.10.0 (from boto3<2.0.0,>=1.34.0->cohere->llmx->pyDecision)\n",
            "  Downloading s3transfer-0.10.1-py3-none-any.whl (82 kB)\n",
            "\u001b[2K     \u001b[90m━━━━━━━━━━━━━━━━━━━━━━━━━━━━━━━━━━━━━━━━\u001b[0m \u001b[32m82.2/82.2 kB\u001b[0m \u001b[31m7.5 MB/s\u001b[0m eta \u001b[36m0:00:00\u001b[0m\n",
            "\u001b[?25hRequirement already satisfied: pyasn1<0.7.0,>=0.4.6 in /usr/local/lib/python3.10/dist-packages (from pyasn1-modules>=0.2.1->google.auth->llmx->pyDecision) (0.6.0)\n",
            "Requirement already satisfied: charset-normalizer<4,>=2 in /usr/local/lib/python3.10/dist-packages (from requests<3.0.0,>=2.0.0->cohere->llmx->pyDecision) (3.3.2)\n",
            "Requirement already satisfied: urllib3<3,>=1.21.1 in /usr/local/lib/python3.10/dist-packages (from requests<3.0.0,>=2.0.0->cohere->llmx->pyDecision) (2.0.7)\n",
            "Requirement already satisfied: huggingface-hub<1.0,>=0.16.4 in /usr/local/lib/python3.10/dist-packages (from tokenizers<0.20,>=0.19->cohere->llmx->pyDecision) (0.23.0)\n",
            "Requirement already satisfied: filelock in /usr/local/lib/python3.10/dist-packages (from huggingface-hub<1.0,>=0.16.4->tokenizers<0.20,>=0.19->cohere->llmx->pyDecision) (3.14.0)\n",
            "Requirement already satisfied: fsspec>=2023.5.0 in /usr/local/lib/python3.10/dist-packages (from huggingface-hub<1.0,>=0.16.4->tokenizers<0.20,>=0.19->cohere->llmx->pyDecision) (2023.6.0)\n",
            "Installing collected packages: types-requests, jmespath, httpx-sse, h11, fastavro, diskcache, tiktoken, httpcore, botocore, s3transfer, httpx, openai, boto3, cohere, llmx, pyDecision\n",
            "Successfully installed boto3-1.34.111 botocore-1.34.111 cohere-5.5.1 diskcache-5.6.3 fastavro-1.9.4 h11-0.14.0 httpcore-1.0.5 httpx-0.27.0 httpx-sse-0.4.0 jmespath-1.0.1 llmx-0.0.21a0 openai-1.30.1 pyDecision-4.5.5 s3transfer-0.10.1 tiktoken-0.7.0 types-requests-2.32.0.20240521\n"
          ]
        }
      ]
    },
    {
      "cell_type": "code",
      "metadata": {
        "id": "M88WY4vDyA-s"
      },
      "source": [
        "# Required Libraries\n",
        "import numpy as np\n",
        "import pandas as pd\n",
        "# AHP\n",
        "from pyDecision.algorithm import ahp_method"
      ],
      "execution_count": 2,
      "outputs": []
    },
    {
      "cell_type": "markdown",
      "source": [
        "2. Criação da matriz de comparação"
      ],
      "metadata": {
        "id": "3iUI8puubzRd"
      }
    },
    {
      "cell_type": "code",
      "metadata": {
        "id": "2b_2CQmLy21I"
      },
      "source": [
        "# AHP\n",
        "\n",
        "#g1 Densidade Populacional (DP)\n",
        "#g2 PIB per capita (PIB)\n",
        "#g3 Índice de Desenvolvimento Humano Municipal (IDHM)\n",
        "#g4 Esgotamento Sanitário Adequado (ESA)\n",
        "#g5 Número de Estabelecimentos de Saúde (NES)\n",
        "#g6 Área Territorial\n",
        "\n",
        "# Parameters\n",
        "weight_derivation = 'geometric' # 'mean'; 'geometric' or 'max_eigen'\n",
        "\n",
        "# Dataset\n",
        "dataset = np.array([\n",
        "  #DP     PIB    IDHM   ESA    NES     AT\n",
        "  [  1,     9,     5,    1/3,     3,     3],   #DP\n",
        "  [1/9,     1,   1/3,    1/5,   1/3,   1/3],   #PIB\n",
        "  [1/5,     3,     1,    1/3,   1/3,   1/3],   #IDHM\n",
        "  [  3,     5,     3,      1,     3,     3],   #ESA\n",
        "  [1/3,     3,     3,    1/3,     1,     3],   #NES\n",
        "  [1/3,     3,     3,    1/3,   1/3,     1],   #AT\n",
        "])"
      ],
      "execution_count": 3,
      "outputs": []
    },
    {
      "cell_type": "code",
      "metadata": {
        "id": "21pV5bPsy47Z",
        "colab": {
          "base_uri": "https://localhost:8080/"
        },
        "outputId": "6b5c0f18-ae9c-42fd-a4a5-ab575341af35"
      },
      "source": [
        "# Call AHP Function\n",
        "weights, rc = ahp_method(dataset, wd = weight_derivation)\n",
        "weights"
      ],
      "execution_count": 4,
      "outputs": [
        {
          "output_type": "execute_result",
          "data": {
            "text/plain": [
              "array([0.2883446 , 0.03897267, 0.06750264, 0.34628368, 0.15288906,\n",
              "       0.10600735])"
            ]
          },
          "metadata": {},
          "execution_count": 4
        }
      ]
    },
    {
      "cell_type": "code",
      "metadata": {
        "colab": {
          "base_uri": "https://localhost:8080/"
        },
        "id": "pvo2lVsaz6i6",
        "outputId": "81d3cd11-4744-4a2e-d08d-837880ea162e"
      },
      "source": [
        "# Weigths\n",
        "for i in range(0, weights.shape[0]):\n",
        "  print('w(g'+str(i+1)+'): ', round(weights[i], 4)*100,'%')"
      ],
      "execution_count": 5,
      "outputs": [
        {
          "output_type": "stream",
          "name": "stdout",
          "text": [
            "w(g1):  28.83 %\n",
            "w(g2):  3.9 %\n",
            "w(g3):  6.75 %\n",
            "w(g4):  34.63 %\n",
            "w(g5):  15.290000000000001 %\n",
            "w(g6):  10.6 %\n"
          ]
        }
      ]
    },
    {
      "cell_type": "code",
      "metadata": {
        "colab": {
          "base_uri": "https://localhost:8080/"
        },
        "id": "j2RTwEWf0Igs",
        "outputId": "987ced61-a0b2-4894-dbe1-e2b6f27314cf"
      },
      "source": [
        "# Consistency Ratio\n",
        "print('RC: ' + str(round(rc, 2)))\n",
        "if (rc > 0.10):\n",
        "  print('The solution is inconsistent, the pairwise comparisons must be reviewed')\n",
        "else:\n",
        "  print('The solution is consistent')"
      ],
      "execution_count": 6,
      "outputs": [
        {
          "output_type": "stream",
          "name": "stdout",
          "text": [
            "RC: 0.09\n",
            "The solution is consistent\n"
          ]
        }
      ]
    },
    {
      "cell_type": "code",
      "source": [
        "alternativas=np.array([\n",
        "    # DP      PIB       IDHM    ESA    NES    AT\n",
        "    [ 186.78, 22897.75, 0.673, 36.10,  53, 1029.300], #Castanhal\n",
        "    [ 101.75, 12835.31, 0.659, 10.70,  18,  717.662], #Santa Izabel do Pará\n",
        "    [1230.25, 22216.33, 0.746, 67.90, 168, 1059.466], #Belém\n",
        "    [1083.04, 18986.11, 0.676, 18.80,  21,  103.214], #Marituba\n",
        "    [2512.20, 16542.68, 0.718, 55.10,  64,  190.581], #Ananindeua\n",
        "    [ 338.44, 30668.86, 0.665, 17.40,  17,  187.826], #Benevides\n",
        "    [  96.65, 71473.92, 0.662, 27.80,  32, 1310.338],]) #Barcarena\n",
        "alternativas"
      ],
      "metadata": {
        "colab": {
          "base_uri": "https://localhost:8080/"
        },
        "id": "HeHqXPyFo37p",
        "outputId": "bddfde47-218d-4c41-bd45-78274999bfe3"
      },
      "execution_count": 7,
      "outputs": [
        {
          "output_type": "execute_result",
          "data": {
            "text/plain": [
              "array([[1.867800e+02, 2.289775e+04, 6.730000e-01, 3.610000e+01,\n",
              "        5.300000e+01, 1.029300e+03],\n",
              "       [1.017500e+02, 1.283531e+04, 6.590000e-01, 1.070000e+01,\n",
              "        1.800000e+01, 7.176620e+02],\n",
              "       [1.230250e+03, 2.221633e+04, 7.460000e-01, 6.790000e+01,\n",
              "        1.680000e+02, 1.059466e+03],\n",
              "       [1.083040e+03, 1.898611e+04, 6.760000e-01, 1.880000e+01,\n",
              "        2.100000e+01, 1.032140e+02],\n",
              "       [2.512200e+03, 1.654268e+04, 7.180000e-01, 5.510000e+01,\n",
              "        6.400000e+01, 1.905810e+02],\n",
              "       [3.384400e+02, 3.066886e+04, 6.650000e-01, 1.740000e+01,\n",
              "        1.700000e+01, 1.878260e+02],\n",
              "       [9.665000e+01, 7.147392e+04, 6.620000e-01, 2.780000e+01,\n",
              "        3.200000e+01, 1.310338e+03]])"
            ]
          },
          "metadata": {},
          "execution_count": 7
        }
      ]
    },
    {
      "cell_type": "code",
      "source": [
        "C = []\n",
        "for i in range(len(alternativas)):\n",
        "  C.append([alternativas[i]*weights])"
      ],
      "metadata": {
        "id": "UxtwijXYqSuo"
      },
      "execution_count": 8,
      "outputs": []
    },
    {
      "cell_type": "code",
      "source": [
        "for i in range(len(alternativas)):\n",
        "  Total=sum(C[i])"
      ],
      "metadata": {
        "id": "AF-_bVinrm-I"
      },
      "execution_count": 9,
      "outputs": []
    }
  ]
}