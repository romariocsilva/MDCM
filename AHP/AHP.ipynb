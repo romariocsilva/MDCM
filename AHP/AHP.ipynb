{
  "cells": [
    {
      "cell_type": "markdown",
      "metadata": {
        "id": "z5VjWW3QbCU0"
      },
      "source": [
        "Universidade Federal do Pará - (UFPA)\n",
        "\n",
        "Discente: Romário Silva\n",
        "\n",
        "E-mail: eng.romariosilva@gmail.com\n",
        "\n",
        "Implementação do modelo AHP (Analytic Hierarchy Process)\n",
        "\n",
        "Problema: Identificação de municípios, a partir de aspectos demográficos, com maior e menor propensão à ocorrência de dengue"
      ]
    },
    {
      "cell_type": "markdown",
      "metadata": {
        "id": "baouwFsGbWId"
      },
      "source": [
        "1. Importação das biblotecas necessárias: pyDecision (GitHub Repository: <https://github.com/Valdecy>) e numpy"
      ]
    },
    {
      "cell_type": "code",
      "execution_count": 1,
      "metadata": {
        "colab": {
          "base_uri": "https://localhost:8080/"
        },
        "id": "A8tgi4Z7MTho",
        "outputId": "f839dbba-e3fc-4030-f8dc-0ef40475775b"
      },
      "outputs": [
        {
          "name": "stdout",
          "output_type": "stream",
          "text": [
            "Requirement already satisfied: pyDecision in c:\\users\\romario\\appdata\\local\\programs\\python\\python39\\lib\\site-packages (4.2.7)\n",
            "Requirement already satisfied: matplotlib in c:\\users\\romario\\appdata\\local\\programs\\python\\python39\\lib\\site-packages (from pyDecision) (3.7.1)\n",
            "Requirement already satisfied: numpy in c:\\users\\romario\\appdata\\local\\programs\\python\\python39\\lib\\site-packages (from pyDecision) (1.24.3)\n",
            "Requirement already satisfied: openai in c:\\users\\romario\\appdata\\local\\programs\\python\\python39\\lib\\site-packages (from pyDecision) (0.28.1)\n",
            "Requirement already satisfied: pandas in c:\\users\\romario\\appdata\\local\\programs\\python\\python39\\lib\\site-packages (from pyDecision) (2.0.2)\n",
            "Requirement already satisfied: scikit-learn in c:\\users\\romario\\appdata\\local\\programs\\python\\python39\\lib\\site-packages (from pyDecision) (1.3.2)\n",
            "Requirement already satisfied: scipy in c:\\users\\romario\\appdata\\local\\programs\\python\\python39\\lib\\site-packages (from pyDecision) (1.10.1)\n",
            "Requirement already satisfied: contourpy>=1.0.1 in c:\\users\\romario\\appdata\\local\\programs\\python\\python39\\lib\\site-packages (from matplotlib->pyDecision) (1.0.7)\n",
            "Requirement already satisfied: cycler>=0.10 in c:\\users\\romario\\appdata\\local\\programs\\python\\python39\\lib\\site-packages (from matplotlib->pyDecision) (0.11.0)\n",
            "Requirement already satisfied: fonttools>=4.22.0 in c:\\users\\romario\\appdata\\local\\programs\\python\\python39\\lib\\site-packages (from matplotlib->pyDecision) (4.39.4)\n",
            "Requirement already satisfied: kiwisolver>=1.0.1 in c:\\users\\romario\\appdata\\local\\programs\\python\\python39\\lib\\site-packages (from matplotlib->pyDecision) (1.4.4)\n",
            "Requirement already satisfied: packaging>=20.0 in c:\\users\\romario\\appdata\\local\\programs\\python\\python39\\lib\\site-packages (from matplotlib->pyDecision) (23.1)\n",
            "Requirement already satisfied: pillow>=6.2.0 in c:\\users\\romario\\appdata\\local\\programs\\python\\python39\\lib\\site-packages (from matplotlib->pyDecision) (9.5.0)\n",
            "Requirement already satisfied: pyparsing>=2.3.1 in c:\\users\\romario\\appdata\\local\\programs\\python\\python39\\lib\\site-packages (from matplotlib->pyDecision) (3.0.9)\n",
            "Requirement already satisfied: python-dateutil>=2.7 in c:\\users\\romario\\appdata\\local\\programs\\python\\python39\\lib\\site-packages (from matplotlib->pyDecision) (2.8.2)\n",
            "Requirement already satisfied: importlib-resources>=3.2.0 in c:\\users\\romario\\appdata\\local\\programs\\python\\python39\\lib\\site-packages (from matplotlib->pyDecision) (5.12.0)\n",
            "Requirement already satisfied: requests>=2.20 in c:\\users\\romario\\appdata\\local\\programs\\python\\python39\\lib\\site-packages (from openai->pyDecision) (2.31.0)\n",
            "Requirement already satisfied: tqdm in c:\\users\\romario\\appdata\\local\\programs\\python\\python39\\lib\\site-packages (from openai->pyDecision) (4.65.0)\n",
            "Requirement already satisfied: aiohttp in c:\\users\\romario\\appdata\\local\\programs\\python\\python39\\lib\\site-packages (from openai->pyDecision) (3.8.5)\n",
            "Requirement already satisfied: pytz>=2020.1 in c:\\users\\romario\\appdata\\local\\programs\\python\\python39\\lib\\site-packages (from pandas->pyDecision) (2023.3)\n",
            "Requirement already satisfied: tzdata>=2022.1 in c:\\users\\romario\\appdata\\local\\programs\\python\\python39\\lib\\site-packages (from pandas->pyDecision) (2023.3)\n",
            "Requirement already satisfied: joblib>=1.1.1 in c:\\users\\romario\\appdata\\local\\programs\\python\\python39\\lib\\site-packages (from scikit-learn->pyDecision) (1.2.0)\n",
            "Requirement already satisfied: threadpoolctl>=2.0.0 in c:\\users\\romario\\appdata\\local\\programs\\python\\python39\\lib\\site-packages (from scikit-learn->pyDecision) (3.1.0)\n",
            "Requirement already satisfied: zipp>=3.1.0 in c:\\users\\romario\\appdata\\local\\programs\\python\\python39\\lib\\site-packages (from importlib-resources>=3.2.0->matplotlib->pyDecision) (3.15.0)\n",
            "Requirement already satisfied: six>=1.5 in c:\\users\\romario\\appdata\\local\\programs\\python\\python39\\lib\\site-packages (from python-dateutil>=2.7->matplotlib->pyDecision) (1.16.0)\n",
            "Requirement already satisfied: charset-normalizer<4,>=2 in c:\\users\\romario\\appdata\\local\\programs\\python\\python39\\lib\\site-packages (from requests>=2.20->openai->pyDecision) (3.1.0)\n",
            "Requirement already satisfied: idna<4,>=2.5 in c:\\users\\romario\\appdata\\local\\programs\\python\\python39\\lib\\site-packages (from requests>=2.20->openai->pyDecision) (3.4)\n",
            "Requirement already satisfied: urllib3<3,>=1.21.1 in c:\\users\\romario\\appdata\\local\\programs\\python\\python39\\lib\\site-packages (from requests>=2.20->openai->pyDecision) (1.26.16)\n",
            "Requirement already satisfied: certifi>=2017.4.17 in c:\\users\\romario\\appdata\\local\\programs\\python\\python39\\lib\\site-packages (from requests>=2.20->openai->pyDecision) (2023.5.7)\n",
            "Requirement already satisfied: attrs>=17.3.0 in c:\\users\\romario\\appdata\\local\\programs\\python\\python39\\lib\\site-packages (from aiohttp->openai->pyDecision) (23.1.0)\n",
            "Requirement already satisfied: multidict<7.0,>=4.5 in c:\\users\\romario\\appdata\\local\\programs\\python\\python39\\lib\\site-packages (from aiohttp->openai->pyDecision) (6.0.4)\n",
            "Requirement already satisfied: async-timeout<5.0,>=4.0.0a3 in c:\\users\\romario\\appdata\\local\\programs\\python\\python39\\lib\\site-packages (from aiohttp->openai->pyDecision) (4.0.3)\n",
            "Requirement already satisfied: yarl<2.0,>=1.0 in c:\\users\\romario\\appdata\\local\\programs\\python\\python39\\lib\\site-packages (from aiohttp->openai->pyDecision) (1.9.2)\n",
            "Requirement already satisfied: frozenlist>=1.1.1 in c:\\users\\romario\\appdata\\local\\programs\\python\\python39\\lib\\site-packages (from aiohttp->openai->pyDecision) (1.4.0)\n",
            "Requirement already satisfied: aiosignal>=1.1.2 in c:\\users\\romario\\appdata\\local\\programs\\python\\python39\\lib\\site-packages (from aiohttp->openai->pyDecision) (1.3.1)\n",
            "Requirement already satisfied: colorama in c:\\users\\romario\\appdata\\local\\programs\\python\\python39\\lib\\site-packages (from tqdm->openai->pyDecision) (0.4.6)\n"
          ]
        }
      ],
      "source": [
        "!pip install pyDecision\n",
        "import pandas as pd\n"
      ]
    },
    {
      "cell_type": "code",
      "execution_count": 2,
      "metadata": {
        "id": "M88WY4vDyA-s"
      },
      "outputs": [],
      "source": [
        "# Required Libraries\n",
        "import numpy as np\n",
        "from sklearn.preprocessing import normalize\n",
        "# AHP\n",
        "from pyDecision.algorithm import ahp_method"
      ]
    },
    {
      "cell_type": "markdown",
      "metadata": {
        "id": "3iUI8puubzRd"
      },
      "source": [
        "2. Criação da matriz de comparação"
      ]
    },
    {
      "cell_type": "code",
      "execution_count": 3,
      "metadata": {
        "colab": {
          "base_uri": "https://localhost:8080/"
        },
        "id": "2b_2CQmLy21I",
        "outputId": "18c12b89-52ec-43d4-8303-facfe0c2b1bb"
      },
      "outputs": [
        {
          "data": {
            "text/plain": [
              "array([[1.        , 5.        , 3.        , 3.        , 1.        ],\n",
              "       [0.2       , 1.        , 0.33333333, 0.33333333, 0.2       ],\n",
              "       [0.33333333, 3.        , 1.        , 0.2       , 0.2       ],\n",
              "       [0.33333333, 3.        , 5.        , 1.        , 0.33333333],\n",
              "       [1.        , 5.        , 5.        , 3.        , 1.        ]])"
            ]
          },
          "execution_count": 3,
          "metadata": {},
          "output_type": "execute_result"
        }
      ],
      "source": [
        "# AHP\n",
        "\n",
        "#g1 Densidade Populacional (DP)\n",
        "#g2 PIB per capita (PIB)\n",
        "#g3 Índice de Desenvolvimento Humano Municipal (IDHM)\n",
        "#g4 Esgotamento Sanitário Adequado (ESA)\n",
        "\n",
        "# Parameters\n",
        "weight_derivation = 'mean' # 'mean'; 'geometric' or 'max_eigen'\n",
        "\n",
        "# Dataset\n",
        "\n",
        "dataset = np.array([\n",
        "  #DP     PIB    IDHM    ES   ESA\n",
        "  [1  ,     5,     3,     3,      1],   #DP\n",
        "  [1/5,     1,   1/3,   1/3,    1/5],   #PIB\n",
        "  [1/3,     3,     1,   1/5,    1/5],   #IDHM\n",
        "  [1/3,     3,     5,     1,    1/3],   #ES\n",
        "  [1  ,     5,     5,     3,      1],   #ESA\n",
        "])\n",
        "\n",
        "#DP 5 X PIB = Muito mais importante, hábito alimentar por humanos\n",
        "#DP 3 x IDHM = Moderadamente mais importante\n",
        "#DP 1 x ESA = Falta de saneamento gera potenciais criadouros\n",
        "\n",
        "#PIB x 3 IDHM = Desenvolvimento geral mais importante que receita\n",
        "#PIB x 5 ESA = Estrutura de saneamento mais importante que receita\n",
        "\n",
        "#IDHM x 5 ESA =\n",
        "\n",
        "#normalized_dataset = dataset / np.sqrt(np.sum(dataset**2))\n",
        "\n",
        "#for i in range(len(normalized_dataset)):\n",
        "#  for j in range(len(normalized_dataset[0])):\n",
        "#    normalized_dataset[i,j] = round(normalized_dataset[i,j],2)\n",
        "\n",
        "#normalized_dataset\n",
        "dataset"
      ]
    },
    {
      "cell_type": "markdown",
      "metadata": {
        "id": "w89JAgjrVRIH"
      },
      "source": [
        "3. Utilização do função AHP\n"
      ]
    },
    {
      "cell_type": "code",
      "execution_count": 4,
      "metadata": {
        "id": "21pV5bPsy47Z"
      },
      "outputs": [],
      "source": [
        "# Call AHP Function\n",
        "weights, rc = ahp_method(dataset, wd = weight_derivation)"
      ]
    },
    {
      "cell_type": "markdown",
      "metadata": {
        "id": "h4i7I5R0VaLT"
      },
      "source": [
        "4. Cálculo dos Pesos (Vetor Eigen)"
      ]
    },
    {
      "cell_type": "code",
      "execution_count": 5,
      "metadata": {
        "colab": {
          "base_uri": "https://localhost:8080/"
        },
        "id": "pvo2lVsaz6i6",
        "outputId": "2c7b8b1a-a657-4a3e-c25b-2c16ae485951"
      },
      "outputs": [
        {
          "name": "stdout",
          "output_type": "stream",
          "text": [
            "Peso 1:  32.33 %\n",
            "Peso 2:  5.390000000000001 %\n",
            "Peso 3:  9.24 %\n",
            "Peso 4:  17.93 %\n",
            "Peso 5:  35.120000000000005 %\n"
          ]
        },
        {
          "data": {
            "text/plain": [
              "array([0.3233, 0.0539, 0.0924, 0.1793, 0.3512])"
            ]
          },
          "execution_count": 5,
          "metadata": {},
          "output_type": "execute_result"
        }
      ],
      "source": [
        "# Weigths\n",
        "for i in range(0, weights.shape[0]):\n",
        "  print('Peso '+str(i+1)+': ', round(weights[i], 4)*100,'%')\n",
        "\n",
        "\n",
        "for i in range(0, weights.shape[0]):\n",
        "  weights[i] = round(weights[i], 4)\n",
        "weights"
      ]
    },
    {
      "cell_type": "markdown",
      "metadata": {
        "id": "p79xCQ7KVhSa"
      },
      "source": [
        "5. Cálculo do Índice de consistência"
      ]
    },
    {
      "cell_type": "code",
      "execution_count": 6,
      "metadata": {
        "colab": {
          "base_uri": "https://localhost:8080/"
        },
        "id": "j2RTwEWf0Igs",
        "outputId": "50d030b5-9807-41d1-cf0c-17124ca1f6c2"
      },
      "outputs": [
        {
          "name": "stdout",
          "output_type": "stream",
          "text": [
            "RC: 0.0874\n",
            "A solução é consistente\n"
          ]
        }
      ],
      "source": [
        "# Consistency Ratio\n",
        "print('RC: ' + str(round(rc, 4)))\n",
        "if (rc > 0.10):\n",
        "  print('A solução é inconsistente, as comparações par a par devem ser revisadas')\n",
        "else:\n",
        "  print('A solução é consistente')"
      ]
    },
    {
      "cell_type": "markdown",
      "metadata": {
        "id": "u_G1j3tZVqmn"
      },
      "source": [
        "6. Inserção da matriz com as alternativas e os valores"
      ]
    },
    {
      "cell_type": "code",
      "execution_count": 7,
      "metadata": {
        "colab": {
          "base_uri": "https://localhost:8080/"
        },
        "id": "HeHqXPyFo37p",
        "outputId": "d173852f-672e-439d-8ac3-2fdae848f70c"
      },
      "outputs": [
        {
          "data": {
            "text/plain": [
              "array([[2.4800e-03, 2.7967e-01, 8.9100e-03, 7.0000e-04, 4.8000e-04],\n",
              "       [1.3500e-03, 1.4886e-01, 8.7300e-03, 2.4000e-04, 1.4000e-04],\n",
              "       [1.6290e-02, 2.7225e-01, 9.8800e-03, 2.2200e-03, 9.0000e-04],\n",
              "       [1.4180e-02, 2.0625e-01, 8.9500e-03, 2.8000e-04, 2.5000e-04],\n",
              "       [3.3260e-02, 2.0128e-01, 9.5100e-03, 8.5000e-04, 7.3000e-04],\n",
              "       [4.4800e-03, 3.4780e-01, 8.8000e-03, 2.3000e-04, 2.3000e-04],\n",
              "       [1.0000e-03, 1.3501e-01, 8.3000e-03, 1.2000e-04, 1.4000e-04],\n",
              "       [1.2800e-03, 7.7524e-01, 8.7700e-03, 4.2000e-04, 3.7000e-04]])"
            ]
          },
          "execution_count": 7,
          "metadata": {},
          "output_type": "execute_result"
        }
      ],
      "source": [
        "alternativas=np.array([\n",
        "    #DP        PIB        IDHM   ESA\n",
        "    [ 187.21,  21122.55,  673,  53.00, 36.1], #Castanhal\n",
        "    [ 101.75,  11242.38,  659,  18.00, 10.7], #Santa Isabel do Pará\n",
        "    [1230.23,   20562.1,  746, 168.00, 67.9], #Belém\n",
        "    [1070.74,  15576.91,  676,  21.00, 18.8], #Marituba\n",
        "    [2512.20,  15201.46,  718,  64.00, 55.1], #Ananindeua\n",
        "    [ 338.44,  26267.84,  665,  17.00, 17.4], #Benedives\n",
        "    [  75.82,  10196.64,  627,   9.00, 10.6], #Santa Bárbara do Pará\n",
        "    [  96.65,  58550.40,  662,  32.00, 27.8], #Barcarena\n",
        "    ])\n",
        "\n",
        "normalized_alternativas = alternativas / np.sqrt(np.sum(alternativas**2))\n",
        "\n",
        "for i in range(len(normalized_alternativas)):\n",
        "  for j in range(len(normalized_alternativas[0])):\n",
        "    normalized_alternativas[i,j] = round(normalized_alternativas[i,j],5)\n",
        "\n",
        "normalized_alternativas"
      ]
    },
    {
      "cell_type": "code",
      "execution_count": 8,
      "metadata": {
        "id": "MLTdv0Yo565f"
      },
      "outputs": [],
      "source": [
        "nomealternativa=(\"Castanhal\", \"Santa Isabel do Pará\", \"Belém\", \"Marituba\", \"Ananindeua\", \"Benevides\", \"Santa Bárbara do Pará\", \"Barcarena\")"
      ]
    },
    {
      "cell_type": "markdown",
      "metadata": {
        "id": "fX6oyjgjV9QB"
      },
      "source": [
        "7. Multiplicação do vetor de pesos com as alternativas"
      ]
    },
    {
      "cell_type": "code",
      "execution_count": 9,
      "metadata": {
        "colab": {
          "base_uri": "https://localhost:8080/"
        },
        "id": "UxtwijXYqSuo",
        "outputId": "a08ba5a4-9516-442d-f889-960baad40899"
      },
      "outputs": [
        {
          "data": {
            "text/plain": [
              "[[array([0.00080178, 0.01507421, 0.00082328, 0.00012551, 0.00016858])],\n",
              " [array([4.364550e-04, 8.023554e-03, 8.066520e-04, 4.303200e-05,\n",
              "         4.916800e-05])],\n",
              " [array([0.00526656, 0.01467428, 0.00091291, 0.00039805, 0.00031608])],\n",
              " [array([4.5843940e-03, 1.1116875e-02, 8.2698000e-04, 5.0204000e-05,\n",
              "         8.7800000e-05])],\n",
              " [array([0.01075296, 0.01084899, 0.00087872, 0.0001524 , 0.00025638])],\n",
              " [array([1.448384e-03, 1.874642e-02, 8.131200e-04, 4.123900e-05,\n",
              "         8.077600e-05])],\n",
              " [array([3.233000e-04, 7.277039e-03, 7.669200e-04, 2.151600e-05,\n",
              "         4.916800e-05])],\n",
              " [array([4.1382400e-04, 4.1785436e-02, 8.1034800e-04, 7.5306000e-05,\n",
              "         1.2994400e-04])]]"
            ]
          },
          "execution_count": 9,
          "metadata": {},
          "output_type": "execute_result"
        }
      ],
      "source": [
        "total = []\n",
        "for i in range(len(normalized_alternativas)):\n",
        "  total.append([normalized_alternativas[i]*weights])\n",
        "total"
      ]
    },
    {
      "cell_type": "markdown",
      "metadata": {
        "id": "f5eIR0PUWC5-"
      },
      "source": [
        "8. Função soma para totalização"
      ]
    },
    {
      "cell_type": "code",
      "execution_count": 10,
      "metadata": {
        "id": "446s6AO1UXui"
      },
      "outputs": [],
      "source": [
        "def somalista(numeros):\n",
        "   if len(numeros) == 1:\n",
        "        return numeros[0]\n",
        "   else:\n",
        "        return numeros[0] + somalista(numeros[1:])"
      ]
    },
    {
      "cell_type": "markdown",
      "metadata": {
        "id": "y_LKdIMiWKSC"
      },
      "source": [
        "9. Valor final para cada alternativa"
      ]
    },
    {
      "cell_type": "code",
      "execution_count": 11,
      "metadata": {
        "colab": {
          "base_uri": "https://localhost:8080/"
        },
        "id": "I6gbc83kUZll",
        "outputId": "298b0a35-882c-404a-b5ea-645ceada01ab"
      },
      "outputs": [
        {
          "name": "stdout",
          "output_type": "stream",
          "text": [
            "[0.017, 0.009, 0.022, 0.017, 0.023, 0.021, 0.008, 0.043]\n"
          ]
        }
      ],
      "source": [
        "soma = []\n",
        "somatotal = []\n",
        "for i in range(len(total)):\n",
        "  soma.append(somalista(total[i]))\n",
        "  somatotal.append(round(sum(soma[i]),3))\n",
        "print(somatotal)"
      ]
    },
    {
      "cell_type": "code",
      "execution_count": 12,
      "metadata": {
        "id": "0CrAzR8XlR0d"
      },
      "outputs": [],
      "source": [
        "def maior_valor(lista):\n",
        "    try:\n",
        "        if len(lista) == 0:\n",
        "            return None\n",
        "\n",
        "        maior = lista[0]\n",
        "\n",
        "        for valor in lista:\n",
        "            if valor > maior:\n",
        "                maior = valor\n",
        "\n",
        "        return maior\n",
        "    except TypeError:\n",
        "        return lista"
      ]
    },
    {
      "cell_type": "code",
      "execution_count": 13,
      "metadata": {
        "id": "HZJ6seKOlcMD"
      },
      "outputs": [],
      "source": [
        "def menor_valor(lista):\n",
        "    menor = 9999999\n",
        "    try:\n",
        "        if len(lista) == 0:\n",
        "            return None\n",
        "        menor = lista[0]\n",
        "\n",
        "        for valor in lista:\n",
        "            if valor < menor:\n",
        "                menor = valor\n",
        "        return menor\n",
        "    except TypeError:\n",
        "        return lista"
      ]
    },
    {
      "cell_type": "code",
      "execution_count": 14,
      "metadata": {
        "id": "bnsAzSvQf98p"
      },
      "outputs": [],
      "source": [
        "maior = maior_valor(somatotal)\n",
        "posmaior = somatotal.index(maior)\n",
        "menor = menor_valor(somatotal)\n",
        "posmenor = somatotal.index(menor)"
      ]
    },
    {
      "cell_type": "code",
      "execution_count": 15,
      "metadata": {
        "colab": {
          "base_uri": "https://localhost:8080/"
        },
        "id": "02rttYfcWcVr",
        "outputId": "eb40d1e8-54bd-44a3-c521-bf4d7426147d"
      },
      "outputs": [
        {
          "name": "stdout",
          "output_type": "stream",
          "text": [
            "O maior valor obtido foi: 0.043 referente ao município: Barcarena\n",
            "O menor valor obtido foi: 0.008 referente ao município: Santa Bárbara do Pará\n"
          ]
        }
      ],
      "source": [
        "print('O maior valor obtido foi:', maior, 'referente ao município:', nomealternativa[posmaior])\n",
        "print('O menor valor obtido foi:', menor, 'referente ao município:', nomealternativa[posmenor])"
      ]
    }
  ],
  "metadata": {
    "colab": {
      "provenance": []
    },
    "kernelspec": {
      "display_name": "Python 3",
      "name": "python3"
    },
    "language_info": {
      "codemirror_mode": {
        "name": "ipython",
        "version": 3
      },
      "file_extension": ".py",
      "mimetype": "text/x-python",
      "name": "python",
      "nbconvert_exporter": "python",
      "pygments_lexer": "ipython3",
      "version": "3.9.0"
    }
  },
  "nbformat": 4,
  "nbformat_minor": 0
}
